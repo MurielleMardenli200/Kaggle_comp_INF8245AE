{
 "cells": [
  {
   "cell_type": "code",
   "execution_count": null,
   "metadata": {},
   "outputs": [],
   "source": [
    "import pandas as pd\n",
    "\n",
    "from sklearn.ensemble import RandomForestClassifier\n",
    "from sklearn.model_selection import cross_val_score, learning_curve, validation_curve\n",
    "import sklearn.model_selection as model_selection"
   ]
  },
  {
   "cell_type": "code",
   "execution_count": null,
   "metadata": {},
   "outputs": [],
   "source": [
    "train_data_path = 'data/train.csv'\n",
    "X = pd.read_csv(train_data_path) \n",
    "\n",
    "# What is this\n",
    "X = X.loc[:, ~X.columns.str.contains('^Unnamed')]\n",
    "\n",
    "print(X.shape)\n",
    "print(X.columns)\n",
    "X.head()"
   ]
  },
  {
   "cell_type": "code",
   "execution_count": null,
   "metadata": {},
   "outputs": [],
   "source": [
    "labels_data_path = 'data/labels.csv'\n",
    "y = pd.read_csv(labels_data_path)\n",
    "y = y.loc[:, ~y.columns.str.contains('^Unnamed')]\n",
    "\n",
    "y.head()"
   ]
  },
  {
   "cell_type": "code",
   "execution_count": null,
   "metadata": {},
   "outputs": [],
   "source": [
    "test_data_path = 'data/test.csv'\n",
    "test_data = pd.read_csv(test_data_path) \n",
    "test_data.shape\n"
   ]
  },
  {
   "cell_type": "markdown",
   "metadata": {},
   "source": [
    "# Preprocessing"
   ]
  },
  {
   "cell_type": "code",
   "execution_count": null,
   "metadata": {},
   "outputs": [],
   "source": [
    "#TODO: Preprocessing\n",
    "\n",
    "# 1) One hot encode variables with string values\n",
    "# 2) Make correlation matrix to eliminate features with no effect"
   ]
  },
  {
   "cell_type": "code",
   "execution_count": null,
   "metadata": {},
   "outputs": [],
   "source": [
    "X_train, X_temp, y_train, y_temp = model_selection.train_test_split(X, y, test_size=0.2, random_state=0)\n",
    "X_val, X_test, y_val, y_test = model_selection.train_test_split(X_temp, y_temp, test_size=0.5, random_state=0)\n"
   ]
  },
  {
   "cell_type": "code",
   "execution_count": null,
   "metadata": {},
   "outputs": [],
   "source": [
    "# from sklearn.preprocessing import OneHotEncoder, StandardScaler\n",
    "# import numpy as np\n",
    "\n",
    "# # Separate numerical and categorical columns\n",
    "# categorical_features = X_train.select_dtypes(include=['object']).columns\n",
    "# numerical_features = X_train.select_dtypes(include=['float64', 'int64']).columns\n",
    "\n",
    "# # One-hot encode categorical features\n",
    "# encoder = OneHotEncoder(handle_unknown='ignore')\n",
    "# X_train_cat_encoded = encoder.fit_transform(X_train[categorical_features]).toarray()\n",
    "# X_test_cat_encoded = encoder.transform(X_test[categorical_features]).toarray()\n",
    "\n",
    "# # Normalize numerical features\n",
    "# scaler = StandardScaler()\n",
    "# X_train_num_scaled = scaler.fit_transform(X_train[numerical_features])\n",
    "# X_test_num_scaled = scaler.transform(X_test[numerical_features])\n",
    "\n",
    "# # Combine processed categorical and numerical features\n",
    "# X_train_processed = pd.DataFrame(\n",
    "#     data=np.hstack((X_train_num_scaled, X_train_cat_encoded)),\n",
    "#     columns=list(numerical_features) + list(encoder.get_feature_names_out(categorical_features))\n",
    "# )\n",
    "# X_test_processed = pd.DataFrame(\n",
    "#     data=np.hstack((X_test_num_scaled, X_test_cat_encoded)),\n",
    "#     columns=list(numerical_features) + list(encoder.get_feature_names_out(categorical_features))\n",
    "# )"
   ]
  },
  {
   "cell_type": "markdown",
   "metadata": {},
   "source": [
    "# Hyperparam sweep"
   ]
  },
  {
   "cell_type": "code",
   "execution_count": null,
   "metadata": {},
   "outputs": [],
   "source": [
    "from sklearn.compose import ColumnTransformer\n",
    "from sklearn.pipeline import Pipeline\n",
    "from sklearn.preprocessing import OneHotEncoder, StandardScaler\n",
    "from sklearn.ensemble import RandomForestClassifier\n",
    "from sklearn.model_selection import GridSearchCV\n",
    "from sklearn.metrics import accuracy_score, precision_score, f1_score\n",
    "\n",
    "# Preprocess categorical data\n",
    "categorical_features = X_train.select_dtypes(include=['object']).columns\n",
    "numerical_features = X_train.select_dtypes(include=['float64', 'int64']).columns\n",
    "\n",
    "# Create column transformer\n",
    "preprocessor = ColumnTransformer(\n",
    "    transformers=[\n",
    "        ('num', StandardScaler(), numerical_features),         # Scale numerical features\n",
    "        ('cat', OneHotEncoder(handle_unknown='ignore'), categorical_features)  # Encode categorical features\n",
    "    ]\n",
    ")\n",
    "\n",
    "# Create a pipeline with preprocessing and the model\n",
    "pipe = Pipeline(steps=[\n",
    "    ('preprocessor', preprocessor),\n",
    "    ('rf', RandomForestClassifier(random_state=0))\n",
    "])\n",
    "\n",
    "# Define the hyperparameter grid for the Random Forest\n",
    "param_grid = {\n",
    "    'rf__n_estimators': [200, 300],  # Prefix with 'rf__' for pipeline\n",
    "    'rf__max_depth': [20, 30],\n",
    "    'rf__min_samples_split': [2, 5, 6],\n",
    "    'rf__min_samples_leaf': [2, 4, 6],\n",
    "}\n",
    "\n",
    "# Perform grid search\n",
    "grid_search = GridSearchCV(estimator=pipe, param_grid=param_grid, \n",
    "                           scoring='f1', cv=3, n_jobs=-1, verbose=2)\n",
    "grid_search.fit(X_train, y_train)\n",
    "\n",
    "# Best parameters\n",
    "best_params = grid_search.best_params_\n",
    "print(\"Best Hyperparameters:\", best_params)\n",
    "\n",
    "# Test the model on the test set\n",
    "y_pred = grid_search.best_estimator_.predict(X_test)\n",
    "\n",
    "# Evaluate the model\n",
    "accuracy = accuracy_score(y_test, y_pred)\n",
    "precision = precision_score(y_test, y_pred)\n",
    "f1 = f1_score(y_test, y_pred)    \n",
    "\n",
    "print(f\"Accuracy: {accuracy:.4f}\")\n",
    "print(f\"Precision: {precision:.4f}\")\n",
    "print(f\"F1 Score: {f1:.4f}\")\n"
   ]
  },
  {
   "cell_type": "markdown",
   "metadata": {},
   "source": [
    "# Model evaluation"
   ]
  },
  {
   "cell_type": "code",
   "execution_count": null,
   "metadata": {},
   "outputs": [],
   "source": [
    "best_params = grid_search.best_params_\n",
    "print(\"Best Hyperparameters:\", best_params)\n",
    "\n",
    "# Test the model on the test set\n",
    "# y_pred = grid_search.best_estimator_.predict(X_test)\n",
    "clf = RandomForestClassifier(n_estimators=best_params['rf__n_estimators'], \n",
    "                                min_samples_split=best_params['rf__min_samples_split'], \n",
    "                                min_samples_leaf=best_params['rf__min_samples_leaf'],\n",
    "                                max_depth=best_params['rf__max_depth'])\n",
    "\n",
    "clf.fit(X_train, y_train)\n",
    "\n",
    "# Evaluate the model\n",
    "accuracy = accuracy_score(y_test, y_pred)\n",
    "precision = precision_score(y_test, y_pred, average='binary') # Adjust 'binary' for your task\n",
    "f1 = f1_score(y_test, y_pred, average='binary')               # Adjust 'binary' for your task\n",
    "\n",
    "print(f\"Accuracy: {accuracy:.4f}\")\n",
    "print(f\"Precision: {precision:.4f}\")\n",
    "print(f\"F1 Score: {f1:.4f}\")"
   ]
  },
  {
   "cell_type": "code",
   "execution_count": 44,
   "metadata": {},
   "outputs": [
    {
     "name": "stdout",
     "output_type": "stream",
     "text": [
      "Best Hyperparameters: {'rf__max_depth': 20, 'rf__min_samples_leaf': 4, 'rf__min_samples_split': 2, 'rf__n_estimators': 300}\n",
      "Accuracy: 0.8640\n",
      "Precision: 0.5667\n",
      "F1 Score: 0.1916\n"
     ]
    }
   ],
   "source": [
    "# best_params = grid_search.best_params_\n",
    "# print(\"Best Hyperparameters:\", best_params)\n",
    "\n",
    "# # Train the model using the best parameters\n",
    "# best_rf = RandomForestClassifier(n_estimators=best_params['rf__n_estimators'], \n",
    "#                                 min_samples_split=best_params['rf__min_samples_split'], \n",
    "#                                 min_samples_leaf=best_params['rf__min_samples_leaf'],\n",
    "#                                 max_depth=best_params['rf__max_depth'])\n",
    "# best_rf.fit(X_train, y_train)\n",
    "\n",
    "# # Evaluate on the test set\n",
    "# y_pred = best_rf.predict(X_test)\n",
    "\n",
    "# # Calculate evaluation metrics\n",
    "# accuracy = accuracy_score(y_test, y_pred)\n",
    "# precision = precision_score(y_test, y_pred, average='binary') # Adjust 'binary' for your task\n",
    "# f1 = f1_score(y_test, y_pred, average='binary')               # Adjust 'binary' for your task\n",
    "\n",
    "# print(f\"Accuracy: {accuracy:.4f}\")\n",
    "# print(f\"Precision: {precision:.4f}\")\n",
    "# print(f\"F1 Score: {f1:.4f}\")\n",
    "\n",
    "\n",
    "\n",
    "# Best parameters\n",
    "best_params = grid_search.best_params_\n",
    "print(\"Best Hyperparameters:\", best_params)\n",
    "\n",
    "# Test the model on the test set\n",
    "y_pred = grid_search.best_estimator_.predict(X_test)\n",
    "\n",
    "# Evaluate the model\n",
    "accuracy = accuracy_score(y_test, y_pred)\n",
    "precision = precision_score(y_test, y_pred) # Adjust 'binary' for your task\n",
    "f1 = f1_score(y_test, y_pred)               # Adjust 'binary' for your task\n",
    "\n",
    "print(f\"Accuracy: {accuracy:.4f}\")\n",
    "print(f\"Precision: {precision:.4f}\")\n",
    "print(f\"F1 Score: {f1:.4f}\")"
   ]
  }
 ],
 "metadata": {
  "kernelspec": {
   "display_name": "ml_labs",
   "language": "python",
   "name": "python3"
  },
  "language_info": {
   "codemirror_mode": {
    "name": "ipython",
    "version": 3
   },
   "file_extension": ".py",
   "mimetype": "text/x-python",
   "name": "python",
   "nbconvert_exporter": "python",
   "pygments_lexer": "ipython3",
   "version": "3.11.0"
  }
 },
 "nbformat": 4,
 "nbformat_minor": 2
}
